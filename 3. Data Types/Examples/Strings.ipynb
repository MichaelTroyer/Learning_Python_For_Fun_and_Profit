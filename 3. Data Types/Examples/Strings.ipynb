{
 "cells": [
  {
   "cell_type": "markdown",
   "metadata": {},
   "source": [
    "# Python Data Types: Strings"
   ]
  },
  {
   "cell_type": "markdown",
   "metadata": {},
   "source": [
    "In Python, text data is represented with the string data type. It gets a bit more complicated under the hood (and depending on which version of Python you are using), but for now, string means text."
   ]
  },
  {
   "cell_type": "markdown",
   "metadata": {},
   "source": [
    "Strings are declared by wrapping text in matching single ('text') or double quotes (\"text\").  \n",
    "You can also declare strings in matching groups of triple quotes (either single or double - called triple quotes in both cases).  \n",
    "Don't try to mix and match."
   ]
  },
  {
   "cell_type": "code",
   "execution_count": 1,
   "metadata": {
    "collapsed": true
   },
   "outputs": [],
   "source": [
    "s = 'this is a string'"
   ]
  },
  {
   "cell_type": "code",
   "execution_count": 2,
   "metadata": {
    "collapsed": true
   },
   "outputs": [],
   "source": [
    "s = \"this is also a string\""
   ]
  },
  {
   "cell_type": "code",
   "execution_count": 3,
   "metadata": {
    "collapsed": true
   },
   "outputs": [],
   "source": [
    "s = \"\"\"this is also also a string\"\"\""
   ]
  },
  {
   "cell_type": "code",
   "execution_count": 4,
   "metadata": {
    "collapsed": true
   },
   "outputs": [],
   "source": [
    "s = '''this is also also also a string'''"
   ]
  },
  {
   "cell_type": "markdown",
   "metadata": {},
   "source": [
    "For the most part, single and double quotes are interchangeable. The only caveat is when the text you are trying to represent includes a single quote - as in a possessive - (they're or Michael's) for example. In this case you must use the double (or triple) quote to declare the string, otherwise Python will interpret the possessive quote as the end of the string."
   ]
  },
  {
   "cell_type": "code",
   "execution_count": 5,
   "metadata": {},
   "outputs": [
    {
     "ename": "SyntaxError",
     "evalue": "invalid syntax (<ipython-input-5-4968a85a35c9>, line 2)",
     "output_type": "error",
     "traceback": [
      "\u001b[1;36m  File \u001b[1;32m\"<ipython-input-5-4968a85a35c9>\"\u001b[1;36m, line \u001b[1;32m2\u001b[0m\n\u001b[1;33m    s = 'Michael's code is ok, i guess..'\u001b[0m\n\u001b[1;37m                 ^\u001b[0m\n\u001b[1;31mSyntaxError\u001b[0m\u001b[1;31m:\u001b[0m invalid syntax\n"
     ]
    }
   ],
   "source": [
    "# This will raise an error\n",
    "s = 'Michael's code is ok, i guess..'"
   ]
  },
  {
   "cell_type": "code",
   "execution_count": 6,
   "metadata": {
    "collapsed": true
   },
   "outputs": [],
   "source": [
    "# This is ok\n",
    "s = \"Michael's code is ok, i guess..\""
   ]
  },
  {
   "cell_type": "code",
   "execution_count": 7,
   "metadata": {},
   "outputs": [
    {
     "data": {
      "text/plain": [
       "\"Michael's code is ok, i guess..\""
      ]
     },
     "execution_count": 7,
     "metadata": {},
     "output_type": "execute_result"
    }
   ],
   "source": [
    "s"
   ]
  },
  {
   "cell_type": "markdown",
   "metadata": {},
   "source": [
    "Note: the inverse is true if your text data contains a double quote for some reason; in this case you would need to declare the string by wrapping the text in single (or triple) quotes."
   ]
  },
  {
   "cell_type": "code",
   "execution_count": 8,
   "metadata": {},
   "outputs": [
    {
     "data": {
      "text/plain": [
       "'this is a weird \" but \" totally \" acceptable \" text \" string'"
      ]
     },
     "execution_count": 8,
     "metadata": {},
     "output_type": "execute_result"
    }
   ],
   "source": [
    "s = 'this is a weird \" but \" totally \" acceptable \" text \" string'\n",
    "s"
   ]
  },
  {
   "cell_type": "markdown",
   "metadata": {},
   "source": [
    "Triple quotes are primarilly used for multiline strings. They can be triple single ('''...''') or triple double (\"\"\"...\"\"\")."
   ]
  },
  {
   "cell_type": "code",
   "execution_count": 9,
   "metadata": {},
   "outputs": [
    {
     "ename": "SyntaxError",
     "evalue": "EOL while scanning string literal (<ipython-input-9-4f0ed96673fa>, line 3)",
     "output_type": "error",
     "traceback": [
      "\u001b[1;36m  File \u001b[1;32m\"<ipython-input-9-4f0ed96673fa>\"\u001b[1;36m, line \u001b[1;32m3\u001b[0m\n\u001b[1;33m    x = \"This\u001b[0m\n\u001b[1;37m            ^\u001b[0m\n\u001b[1;31mSyntaxError\u001b[0m\u001b[1;31m:\u001b[0m EOL while scanning string literal\n"
     ]
    }
   ],
   "source": [
    "# This multiline string wrapped in double quotes will raise an error since \n",
    "# Python doesn't know the string continues to the next line\n",
    "x = \"This\n",
    "is\n",
    "a\n",
    "multiline\n",
    "string\""
   ]
  },
  {
   "cell_type": "code",
   "execution_count": 11,
   "metadata": {
    "collapsed": true
   },
   "outputs": [],
   "source": [
    "# When you geniunely need a multiline string, use triple quotes\n",
    "x = \"\"\"This\n",
    "is\n",
    "a\n",
    "multiline\n",
    "string\"\"\""
   ]
  },
  {
   "cell_type": "code",
   "execution_count": 12,
   "metadata": {},
   "outputs": [
    {
     "data": {
      "text/plain": [
       "'This\\nis\\na\\nmultiline\\nstring'"
      ]
     },
     "execution_count": 12,
     "metadata": {},
     "output_type": "execute_result"
    }
   ],
   "source": [
    "x"
   ]
  },
  {
   "cell_type": "markdown",
   "metadata": {},
   "source": [
    "To keep things simple, use triple quotes for multiline strings and double quotes for everything else.  \n",
    "if you get some sort of string literal SyntaxError, double check your quotes."
   ]
  },
  {
   "cell_type": "markdown",
   "metadata": {},
   "source": [
    "### Escape characters"
   ]
  },
  {
   "cell_type": "markdown",
   "metadata": {},
   "source": [
    "There are a few characters and character sequences that have special meaning in Python strings. The '\\' character can be used to 'escape' the special meaning of these characters and character sequences. In the above example of an embedded single quote in a text sequence, we could have also used the '\\' character immediately before the single quote to tell python to ignore the meaning of the quote."
   ]
  },
  {
   "cell_type": "code",
   "execution_count": 13,
   "metadata": {},
   "outputs": [
    {
     "ename": "SyntaxError",
     "evalue": "invalid syntax (<ipython-input-13-65bc4e86599b>, line 2)",
     "output_type": "error",
     "traceback": [
      "\u001b[1;36m  File \u001b[1;32m\"<ipython-input-13-65bc4e86599b>\"\u001b[1;36m, line \u001b[1;32m2\u001b[0m\n\u001b[1;33m    s = 'a string with a ' in it..'\u001b[0m\n\u001b[1;37m                                 ^\u001b[0m\n\u001b[1;31mSyntaxError\u001b[0m\u001b[1;31m:\u001b[0m invalid syntax\n"
     ]
    }
   ],
   "source": [
    "# This is a problem - where does my string end??\n",
    "s = 'a string with a ' in it..'"
   ]
  },
  {
   "cell_type": "code",
   "execution_count": 16,
   "metadata": {},
   "outputs": [
    {
     "data": {
      "text/plain": [
       "\"a string with a ' in it..\""
      ]
     },
     "execution_count": 16,
     "metadata": {},
     "output_type": "execute_result"
    }
   ],
   "source": [
    "# this is ok since the meaning of the ' is escaped/ignored\n",
    "s = 'a string with a \\' in it..'\n",
    "s"
   ]
  },
  {
   "cell_type": "markdown",
   "metadata": {},
   "source": [
    "The '\\' character can also be used to declare special sequences in Python strings. The important ones are '\\n' and '\\t'.  "
   ]
  },
  {
   "cell_type": "code",
   "execution_count": null,
   "metadata": {},
   "outputs": [],
   "source": [
    "# \\n indicates a new line in Python and is basically like hitting return in a text editor\n",
    "s = 'this is the first line \\nand this is the second line'\n",
    "print(s)"
   ]
  },
  {
   "cell_type": "code",
   "execution_count": null,
   "metadata": {},
   "outputs": [],
   "source": [
    "# \\t means tab and is like hitting tab in a text editor\n",
    "s = 'this comes before the tab \\t and this comes after'\n",
    "print(s)"
   ]
  },
  {
   "cell_type": "code",
   "execution_count": null,
   "metadata": {
    "collapsed": true
   },
   "outputs": [],
   "source": [
    "path = r'C:\\Users\\mtroyer\\Documents\\Learning_Python_for_Fun_and_Profit\\3. Data Types'"
   ]
  },
  {
   "cell_type": "markdown",
   "metadata": {},
   "source": [
    "In the event you need a \\n or \\t in the string without the special meaning, you guessed it, you can escape it with a preceeding '\\'."
   ]
  },
  {
   "cell_type": "code",
   "execution_count": 18,
   "metadata": {},
   "outputs": [
    {
     "name": "stdout",
     "output_type": "stream",
     "text": [
      "this is the first line \n",
      "and this is the second line\n"
     ]
    }
   ],
   "source": [
    "# This \\n is treated as a newline character\n",
    "s = 'this is the first line \\nand this is the second line'\n",
    "print(s)"
   ]
  },
  {
   "cell_type": "code",
   "execution_count": 19,
   "metadata": {},
   "outputs": [
    {
     "name": "stdout",
     "output_type": "stream",
     "text": [
      "this is the first line \\nand this is the second line\n"
     ]
    }
   ],
   "source": [
    "# This \\n is escaped with the preceeding '\\' and printed as is\n",
    "s = 'this is the first line \\\\nand this is the second line'\n",
    "print(s)"
   ]
  },
  {
   "cell_type": "markdown",
   "metadata": {},
   "source": [
    "This is especially important in file paths!"
   ]
  },
  {
   "cell_type": "code",
   "execution_count": 20,
   "metadata": {},
   "outputs": [
    {
     "name": "stdout",
     "output_type": "stream",
     "text": [
      "C:\n",
      "ew_user\n",
      "ew_folder\n",
      "ew_file\n"
     ]
    }
   ],
   "source": [
    "# this is gonna get totally mangled.. notice all the \\n's \n",
    "path = 'C:\\new_user\\new_folder\\new_file'\n",
    "print(path)"
   ]
  },
  {
   "cell_type": "code",
   "execution_count": 22,
   "metadata": {},
   "outputs": [
    {
     "name": "stdout",
     "output_type": "stream",
     "text": [
      "C:\\new_user\\new_folder\\new_file\n"
     ]
    }
   ],
   "source": [
    "# this will work since all the \\n's are escaped\n",
    "# path = 'C:\\\\new_user\\\\new_folder\\\\new_file'\n",
    "path = r'C:\\new_user\\new_folder\\new_file'\n",
    "print(path)"
   ]
  },
  {
   "cell_type": "markdown",
   "metadata": {},
   "source": [
    "As is usually the case with file paths, you can also just declare the entire string a raw string - meaning everything is treated as is and without special meaning.  \n",
    "To declare a raw string, preface the entire thing with a lower case 'r'"
   ]
  },
  {
   "cell_type": "code",
   "execution_count": 23,
   "metadata": {},
   "outputs": [
    {
     "name": "stdout",
     "output_type": "stream",
     "text": [
      "C:\n",
      "ew_user\n",
      "ew_folder\n",
      "ew_file\n"
     ]
    }
   ],
   "source": [
    "# this is a total mess\n",
    "path = 'C:\\new_user\\new_folder\\new_file'\n",
    "print(path)"
   ]
  },
  {
   "cell_type": "code",
   "execution_count": 24,
   "metadata": {},
   "outputs": [
    {
     "name": "stdout",
     "output_type": "stream",
     "text": [
      "C:\\new_user\\new_folder\\new_file\n"
     ]
    }
   ],
   "source": [
    "# this is ok!\n",
    "path = r'C:\\new_user\\new_folder\\new_file'\n",
    "print(path)"
   ]
  },
  {
   "cell_type": "markdown",
   "metadata": {},
   "source": [
    "### String Operations"
   ]
  },
  {
   "cell_type": "markdown",
   "metadata": {},
   "source": [
    "There are a number of operations you can perform on string objects. The important ones are index, slice, split, and concatenate."
   ]
  },
  {
   "cell_type": "code",
   "execution_count": 27,
   "metadata": {},
   "outputs": [
    {
     "data": {
      "text/plain": [
       "' '"
      ]
     },
     "execution_count": 27,
     "metadata": {},
     "output_type": "execute_result"
    }
   ],
   "source": [
    "# You can index strings using square brackets- i.e. get the 11th character in this string sequence\n",
    "# remember Python is 0 indexed, so the first item in the stringe is item 0\n",
    "# The 11th item, in that case, is index [10]\n",
    "s = 'this is a text string'\n",
    "s[9]"
   ]
  },
  {
   "cell_type": "code",
   "execution_count": 33,
   "metadata": {},
   "outputs": [
    {
     "data": {
      "text/plain": [
       "'this is a t'"
      ]
     },
     "execution_count": 33,
     "metadata": {},
     "output_type": "execute_result"
    }
   ],
   "source": [
    "# You can slice strings using square brackets with a starting and ending index separated by a colon (:)\n",
    "# Remember, when slicing sequences in Python, the starting value is inclusive, while the ending value is exclusive.\n",
    "# e.g. string[1:5] will slice a string starting with index position 1 up to but NOT including index position 5.\n",
    "s = 'this is a text string'\n",
    "s[0:11]"
   ]
  },
  {
   "cell_type": "markdown",
   "metadata": {},
   "source": [
    "Notice how the slice does not include index position [10] - the 't' as in the example above. "
   ]
  },
  {
   "cell_type": "code",
   "execution_count": 47,
   "metadata": {},
   "outputs": [
    {
     "name": "stdout",
     "output_type": "stream",
     "text": [
      "C:\\new_use\\new_folder\\new_file\n"
     ]
    }
   ],
   "source": [
    "# You can split a string using the .split() method which returns a list of the split pieces.\n",
    "# .split() defaults to split on spaces, but you can specify any character you want.\n",
    "s = 'a string with a bunch of spaces in it'\n",
    "\n",
    "s = r'C:\\new_use\\new_folder\\new_file'\n",
    "print s\n",
    "# s.split('\\\\')"
   ]
  },
  {
   "cell_type": "code",
   "execution_count": 43,
   "metadata": {},
   "outputs": [
    {
     "data": {
      "text/plain": [
       "['a string', ' with', ' a', ' bunch', ' of', ' periods', ' in it']"
      ]
     },
     "execution_count": 43,
     "metadata": {},
     "output_type": "execute_result"
    }
   ],
   "source": [
    "s = 'a string. with. a. bunch. of. periods. in it'\n",
    "s.split('.')"
   ]
  },
  {
   "cell_type": "code",
   "execution_count": 44,
   "metadata": {},
   "outputs": [
    {
     "data": {
      "text/plain": [
       "'this is how you concatenate two strings'"
      ]
     },
     "execution_count": 44,
     "metadata": {},
     "output_type": "execute_result"
    }
   ],
   "source": [
    "# You can add two or more strings together (concatenate) using the '+' operand.\n",
    "s = 'this is how you ' + 'concatenate two strings'\n",
    "s"
   ]
  },
  {
   "cell_type": "code",
   "execution_count": 45,
   "metadata": {},
   "outputs": [
    {
     "data": {
      "text/plain": [
       "'this is how you concatenate two strings'"
      ]
     },
     "execution_count": 45,
     "metadata": {},
     "output_type": "execute_result"
    }
   ],
   "source": [
    "# Or with previously defined string variables\n",
    "s1 = 'this is how you ' \n",
    "s2 = 'concatenate two strings'\n",
    "s3 = s1 + s2\n",
    "s3"
   ]
  },
  {
   "cell_type": "code",
   "execution_count": null,
   "metadata": {
    "collapsed": true
   },
   "outputs": [],
   "source": []
  }
 ],
 "metadata": {
  "kernelspec": {
   "display_name": "Python 2",
   "language": "python",
   "name": "python2"
  },
  "language_info": {
   "codemirror_mode": {
    "name": "ipython",
    "version": 2
   },
   "file_extension": ".py",
   "mimetype": "text/x-python",
   "name": "python",
   "nbconvert_exporter": "python",
   "pygments_lexer": "ipython2",
   "version": "2.7.13"
  }
 },
 "nbformat": 4,
 "nbformat_minor": 2
}
