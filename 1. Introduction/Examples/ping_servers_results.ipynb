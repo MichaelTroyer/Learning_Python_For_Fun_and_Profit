{
 "cells": [
  {
   "cell_type": "code",
   "execution_count": null,
   "metadata": {
    "collapsed": true
   },
   "outputs": [],
   "source": [
    "import numpy as np\n",
    "import pandas as pd\n",
    "import matplotlib.pyplot as plt\n",
    "\n",
    "csv = r'.\\data\\ping_results.csv'\n",
    "df = pd.read_csv(csv)\n",
    "df['Server'] = df.Host.str.split('-').str[1].astype('int')\n",
    "df['Date'] = pd.to_datetime(df[['Year', 'Month', 'Day']])"
   ]
  },
  {
   "cell_type": "code",
   "execution_count": null,
   "metadata": {},
   "outputs": [],
   "source": [
    "len(df)"
   ]
  },
  {
   "cell_type": "code",
   "execution_count": null,
   "metadata": {
    "scrolled": true
   },
   "outputs": [],
   "source": [
    "df.head(10)"
   ]
  },
  {
   "cell_type": "code",
   "execution_count": null,
   "metadata": {
    "collapsed": true
   },
   "outputs": [],
   "source": [
    "def plot_latency(df, group):\n",
    "    plt.figure(figsize=(14, 8))\n",
    "    plt.fontsize = 14\n",
    "    width = 4.0\n",
    "    avg_latency = df[['Latency(ms)', group]].groupby(group).mean()\n",
    "    min_latency = df[['Latency(ms)', group]].groupby(group).min()\n",
    "    max_latency = df[['Latency(ms)', group]].groupby(group).max()\n",
    "    plt.plot(avg_latency, label='Average Case', linewidth=width)\n",
    "    plt.plot(min_latency, label='Best Case', linewidth=width)\n",
    "    plt.plot(max_latency, label='Worst Case', linewidth=width)\n",
    "    \n",
    "    plt.title('EGIS Server Performance by {}'.format(group), fontsize=16)\n",
    "    plt.ylabel('Latency (ms)', fontsize=16)   \n",
    "    plt.xlabel('{}'.format(group), fontsize=16)\n",
    "    \n",
    "    plt.legend(fontsize=16)\n",
    "    plt.show()"
   ]
  },
  {
   "cell_type": "code",
   "execution_count": null,
   "metadata": {},
   "outputs": [],
   "source": [
    "plot_latency(df, 'Month')"
   ]
  },
  {
   "cell_type": "code",
   "execution_count": null,
   "metadata": {},
   "outputs": [],
   "source": [
    "plot_latency(df, 'Day')"
   ]
  },
  {
   "cell_type": "code",
   "execution_count": null,
   "metadata": {},
   "outputs": [],
   "source": [
    "plot_latency(df, 'Hour')"
   ]
  },
  {
   "cell_type": "code",
   "execution_count": null,
   "metadata": {},
   "outputs": [],
   "source": [
    "ax = df.boxplot(column='Latency(ms)', by='Server', figsize=(14, 8), fontsize=14)\n",
    "plt.show()"
   ]
  },
  {
   "cell_type": "code",
   "execution_count": null,
   "metadata": {},
   "outputs": [],
   "source": [
    "ax = df.boxplot(column='Latency(ms)', by='Server', figsize=(14, 8),\n",
    "                showfliers=False, showmeans=True, meanline=True, notch=True,\n",
    "                fontsize=14,\n",
    "                boxprops= dict(linewidth=3.0, color='black'),\n",
    "                whiskerprops=dict(linewidth=3.0, color='black'),\n",
    "               )\n",
    "ax.set_ylim(0, 120)\n",
    "plt.show()"
   ]
  },
  {
   "cell_type": "code",
   "execution_count": null,
   "metadata": {},
   "outputs": [],
   "source": [
    "df.groupby('Server').mean()['Latency(ms)']"
   ]
  },
  {
   "cell_type": "code",
   "execution_count": null,
   "metadata": {},
   "outputs": [],
   "source": [
    "df['Latency(ms)'].mean()"
   ]
  },
  {
   "cell_type": "code",
   "execution_count": null,
   "metadata": {},
   "outputs": [],
   "source": [
    "df['Latency(ms)'].max()"
   ]
  },
  {
   "cell_type": "code",
   "execution_count": null,
   "metadata": {},
   "outputs": [],
   "source": [
    "df['Latency(ms)'].min()"
   ]
  },
  {
   "cell_type": "markdown",
   "metadata": {},
   "source": [
    "# Since July 2019"
   ]
  },
  {
   "cell_type": "code",
   "execution_count": null,
   "metadata": {},
   "outputs": [],
   "source": [
    "df[df.Month >= 7][\"Latency(ms)\"].mean()"
   ]
  },
  {
   "cell_type": "code",
   "execution_count": null,
   "metadata": {},
   "outputs": [],
   "source": [
    "df[df.Month >= 7][\"Latency(ms)\"].min()"
   ]
  },
  {
   "cell_type": "code",
   "execution_count": null,
   "metadata": {},
   "outputs": [],
   "source": [
    "df[df.Month >= 7][\"Latency(ms)\"].max()"
   ]
  },
  {
   "cell_type": "code",
   "execution_count": null,
   "metadata": {},
   "outputs": [],
   "source": [
    "ax = df[df.Month >= 7].boxplot(column='Latency(ms)', by='Server', figsize=(14, 8), fontsize=14)\n",
    "plt.show()"
   ]
  },
  {
   "cell_type": "code",
   "execution_count": null,
   "metadata": {
    "collapsed": true
   },
   "outputs": [],
   "source": []
  }
 ],
 "metadata": {
  "kernelspec": {
   "display_name": "Python 2",
   "language": "python",
   "name": "python2"
  },
  "language_info": {
   "codemirror_mode": {
    "name": "ipython",
    "version": 2
   },
   "file_extension": ".py",
   "mimetype": "text/x-python",
   "name": "python",
   "nbconvert_exporter": "python",
   "pygments_lexer": "ipython2",
   "version": "2.7.13"
  }
 },
 "nbformat": 4,
 "nbformat_minor": 2
}
